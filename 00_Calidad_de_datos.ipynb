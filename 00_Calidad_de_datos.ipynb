{
 "cells": [
  {
   "cell_type": "markdown",
   "metadata": {},
   "source": [
    "##Dependencias"
   ]
  },
  {
   "cell_type": "code",
   "execution_count": 1,
   "metadata": {},
   "outputs": [],
   "source": [
    "import pandas as pd\n",
    "import os \n",
    "from glob import glob"
   ]
  },
  {
   "cell_type": "markdown",
   "metadata": {},
   "source": [
    "##Listar archivos"
   ]
  },
  {
   "cell_type": "code",
   "execution_count": 2,
   "metadata": {},
   "outputs": [],
   "source": [
    "ruta = 'ibm_card_txn/*.csv'\n",
    "archivos = glob(ruta)"
   ]
  },
  {
   "cell_type": "code",
   "execution_count": 3,
   "metadata": {},
   "outputs": [
    {
     "data": {
      "text/plain": [
       "list"
      ]
     },
     "execution_count": 3,
     "metadata": {},
     "output_type": "execute_result"
    }
   ],
   "source": [
    "type(archivos)"
   ]
  },
  {
   "cell_type": "markdown",
   "metadata": {},
   "source": [
    "## Leer archivo base"
   ]
  },
  {
   "cell_type": "code",
   "execution_count": 9,
   "metadata": {},
   "outputs": [
    {
     "data": {
      "text/plain": [
       "Index(['User', 'Card', 'Year', 'Month', 'Day', 'Time', 'Amount', 'Use Chip',\n",
       "       'Merchant Name', 'Merchant City', 'Merchant State', 'Zip', 'MCC',\n",
       "       'Errors?', 'Is Fraud?'],\n",
       "      dtype='object')"
      ]
     },
     "execution_count": 9,
     "metadata": {},
     "output_type": "execute_result"
    }
   ],
   "source": [
    "df.columns"
   ]
  },
  {
   "cell_type": "code",
   "execution_count": 4,
   "metadata": {},
   "outputs": [
    {
     "data": {
      "text/plain": [
       "(100000, 12)"
      ]
     },
     "execution_count": 4,
     "metadata": {},
     "output_type": "execute_result"
    }
   ],
   "source": [
    "cols = ['User', 'Card', 'Year', 'Month', 'Day', 'Time', 'Amount', 'Use Chip',\n",
    "       'Merchant State','MCC',\n",
    "       'Errors?', 'Is Fraud?']\n",
    "names =['id_user','id_card','dt_timestamp','c_amt','d_use_chip','d_merchant_state'\n",
    "        'id_mcc','d_errors','b_fraud']\n",
    "df = pd.read_csv(archivos[0],dtype=str,usecols=cols)\n",
    "df.shape"
   ]
  },
  {
   "cell_type": "code",
   "execution_count": 5,
   "metadata": {},
   "outputs": [],
   "source": [
    "import pandas as pd\n",
    "\n",
    "def validar_datos(df):\n",
    "    # Convertir columnas numéricas con valores faltantes a 99999\n",
    "    cols_numericas = ['User', 'Card', 'MCC']\n",
    "    df[cols_numericas] = df[cols_numericas].apply(pd.to_numeric, errors='coerce').fillna(99999).astype(int)\n",
    "\n",
    "    # Formatear Month y Day con dos dígitos\n",
    "    df[['Month', 'Day']] = df[['Month', 'Day']].astype(int).astype(str).apply(lambda x: x.str.zfill(2))\n",
    "\n",
    "    # Crear la columna de timestamp\n",
    "    df['ts'] = pd.to_datetime(\n",
    "        df['Year'].astype(str) + \"-\" + df['Month'] + \"-\" + df['Day'] + \" \" + df['Time'],\n",
    "        format='%Y-%m-%d %H:%M'\n",
    "    )\n",
    "    \n",
    "    # Convertir la columna 'Amount' a número, asegurando que es string antes de reemplazar '$'\n",
    "    df['Amount'] = pd.to_numeric(df['Amount'].astype(str).str.replace('$', '', regex=False), errors='coerce')\n",
    "\n",
    "    return df\n"
   ]
  },
  {
   "cell_type": "code",
   "execution_count": 6,
   "metadata": {},
   "outputs": [
    {
     "data": {
      "text/html": [
       "<div>\n",
       "<style scoped>\n",
       "    .dataframe tbody tr th:only-of-type {\n",
       "        vertical-align: middle;\n",
       "    }\n",
       "\n",
       "    .dataframe tbody tr th {\n",
       "        vertical-align: top;\n",
       "    }\n",
       "\n",
       "    .dataframe thead th {\n",
       "        text-align: right;\n",
       "    }\n",
       "</style>\n",
       "<table border=\"1\" class=\"dataframe\">\n",
       "  <thead>\n",
       "    <tr style=\"text-align: right;\">\n",
       "      <th></th>\n",
       "      <th>User</th>\n",
       "      <th>Card</th>\n",
       "      <th>Year</th>\n",
       "      <th>Month</th>\n",
       "      <th>Day</th>\n",
       "      <th>Time</th>\n",
       "      <th>Amount</th>\n",
       "      <th>Use Chip</th>\n",
       "      <th>Merchant State</th>\n",
       "      <th>MCC</th>\n",
       "      <th>Errors?</th>\n",
       "      <th>Is Fraud?</th>\n",
       "      <th>ts</th>\n",
       "    </tr>\n",
       "  </thead>\n",
       "  <tbody>\n",
       "    <tr>\n",
       "      <th>0</th>\n",
       "      <td>1101</td>\n",
       "      <td>6</td>\n",
       "      <td>2016</td>\n",
       "      <td>03</td>\n",
       "      <td>02</td>\n",
       "      <td>08:16</td>\n",
       "      <td>105.80</td>\n",
       "      <td>Online Transaction</td>\n",
       "      <td>NaN</td>\n",
       "      <td>4814</td>\n",
       "      <td>NaN</td>\n",
       "      <td>No</td>\n",
       "      <td>2016-03-02 08:16:00</td>\n",
       "    </tr>\n",
       "    <tr>\n",
       "      <th>1</th>\n",
       "      <td>1101</td>\n",
       "      <td>6</td>\n",
       "      <td>2016</td>\n",
       "      <td>03</td>\n",
       "      <td>02</td>\n",
       "      <td>12:25</td>\n",
       "      <td>27.63</td>\n",
       "      <td>Online Transaction</td>\n",
       "      <td>NaN</td>\n",
       "      <td>4121</td>\n",
       "      <td>NaN</td>\n",
       "      <td>No</td>\n",
       "      <td>2016-03-02 12:25:00</td>\n",
       "    </tr>\n",
       "    <tr>\n",
       "      <th>2</th>\n",
       "      <td>1101</td>\n",
       "      <td>6</td>\n",
       "      <td>2016</td>\n",
       "      <td>03</td>\n",
       "      <td>03</td>\n",
       "      <td>12:44</td>\n",
       "      <td>20.74</td>\n",
       "      <td>Swipe Transaction</td>\n",
       "      <td>CA</td>\n",
       "      <td>4121</td>\n",
       "      <td>NaN</td>\n",
       "      <td>No</td>\n",
       "      <td>2016-03-03 12:44:00</td>\n",
       "    </tr>\n",
       "    <tr>\n",
       "      <th>3</th>\n",
       "      <td>1101</td>\n",
       "      <td>6</td>\n",
       "      <td>2016</td>\n",
       "      <td>03</td>\n",
       "      <td>03</td>\n",
       "      <td>13:25</td>\n",
       "      <td>14.75</td>\n",
       "      <td>Swipe Transaction</td>\n",
       "      <td>CA</td>\n",
       "      <td>4121</td>\n",
       "      <td>NaN</td>\n",
       "      <td>No</td>\n",
       "      <td>2016-03-03 13:25:00</td>\n",
       "    </tr>\n",
       "    <tr>\n",
       "      <th>4</th>\n",
       "      <td>1101</td>\n",
       "      <td>6</td>\n",
       "      <td>2016</td>\n",
       "      <td>03</td>\n",
       "      <td>03</td>\n",
       "      <td>17:00</td>\n",
       "      <td>24.33</td>\n",
       "      <td>Swipe Transaction</td>\n",
       "      <td>CA</td>\n",
       "      <td>4121</td>\n",
       "      <td>NaN</td>\n",
       "      <td>No</td>\n",
       "      <td>2016-03-03 17:00:00</td>\n",
       "    </tr>\n",
       "    <tr>\n",
       "      <th>...</th>\n",
       "      <td>...</td>\n",
       "      <td>...</td>\n",
       "      <td>...</td>\n",
       "      <td>...</td>\n",
       "      <td>...</td>\n",
       "      <td>...</td>\n",
       "      <td>...</td>\n",
       "      <td>...</td>\n",
       "      <td>...</td>\n",
       "      <td>...</td>\n",
       "      <td>...</td>\n",
       "      <td>...</td>\n",
       "      <td>...</td>\n",
       "    </tr>\n",
       "    <tr>\n",
       "      <th>99995</th>\n",
       "      <td>1110</td>\n",
       "      <td>1</td>\n",
       "      <td>2013</td>\n",
       "      <td>07</td>\n",
       "      <td>10</td>\n",
       "      <td>14:21</td>\n",
       "      <td>123.58</td>\n",
       "      <td>Swipe Transaction</td>\n",
       "      <td>TX</td>\n",
       "      <td>5411</td>\n",
       "      <td>NaN</td>\n",
       "      <td>No</td>\n",
       "      <td>2013-07-10 14:21:00</td>\n",
       "    </tr>\n",
       "    <tr>\n",
       "      <th>99996</th>\n",
       "      <td>1110</td>\n",
       "      <td>1</td>\n",
       "      <td>2013</td>\n",
       "      <td>07</td>\n",
       "      <td>10</td>\n",
       "      <td>18:50</td>\n",
       "      <td>64.07</td>\n",
       "      <td>Swipe Transaction</td>\n",
       "      <td>TX</td>\n",
       "      <td>5812</td>\n",
       "      <td>NaN</td>\n",
       "      <td>No</td>\n",
       "      <td>2013-07-10 18:50:00</td>\n",
       "    </tr>\n",
       "    <tr>\n",
       "      <th>99997</th>\n",
       "      <td>1110</td>\n",
       "      <td>1</td>\n",
       "      <td>2013</td>\n",
       "      <td>07</td>\n",
       "      <td>11</td>\n",
       "      <td>18:50</td>\n",
       "      <td>47.54</td>\n",
       "      <td>Swipe Transaction</td>\n",
       "      <td>TX</td>\n",
       "      <td>5812</td>\n",
       "      <td>NaN</td>\n",
       "      <td>No</td>\n",
       "      <td>2013-07-11 18:50:00</td>\n",
       "    </tr>\n",
       "    <tr>\n",
       "      <th>99998</th>\n",
       "      <td>1110</td>\n",
       "      <td>1</td>\n",
       "      <td>2013</td>\n",
       "      <td>07</td>\n",
       "      <td>12</td>\n",
       "      <td>06:29</td>\n",
       "      <td>4.96</td>\n",
       "      <td>Swipe Transaction</td>\n",
       "      <td>TX</td>\n",
       "      <td>5411</td>\n",
       "      <td>NaN</td>\n",
       "      <td>No</td>\n",
       "      <td>2013-07-12 06:29:00</td>\n",
       "    </tr>\n",
       "    <tr>\n",
       "      <th>99999</th>\n",
       "      <td>1110</td>\n",
       "      <td>1</td>\n",
       "      <td>2013</td>\n",
       "      <td>07</td>\n",
       "      <td>12</td>\n",
       "      <td>06:50</td>\n",
       "      <td>62.14</td>\n",
       "      <td>Online Transaction</td>\n",
       "      <td>NaN</td>\n",
       "      <td>4814</td>\n",
       "      <td>NaN</td>\n",
       "      <td>No</td>\n",
       "      <td>2013-07-12 06:50:00</td>\n",
       "    </tr>\n",
       "  </tbody>\n",
       "</table>\n",
       "<p>100000 rows × 13 columns</p>\n",
       "</div>"
      ],
      "text/plain": [
       "       User  Card  Year Month Day   Time  Amount            Use Chip  \\\n",
       "0      1101     6  2016    03  02  08:16  105.80  Online Transaction   \n",
       "1      1101     6  2016    03  02  12:25   27.63  Online Transaction   \n",
       "2      1101     6  2016    03  03  12:44   20.74   Swipe Transaction   \n",
       "3      1101     6  2016    03  03  13:25   14.75   Swipe Transaction   \n",
       "4      1101     6  2016    03  03  17:00   24.33   Swipe Transaction   \n",
       "...     ...   ...   ...   ...  ..    ...     ...                 ...   \n",
       "99995  1110     1  2013    07  10  14:21  123.58   Swipe Transaction   \n",
       "99996  1110     1  2013    07  10  18:50   64.07   Swipe Transaction   \n",
       "99997  1110     1  2013    07  11  18:50   47.54   Swipe Transaction   \n",
       "99998  1110     1  2013    07  12  06:29    4.96   Swipe Transaction   \n",
       "99999  1110     1  2013    07  12  06:50   62.14  Online Transaction   \n",
       "\n",
       "      Merchant State   MCC Errors? Is Fraud?                  ts  \n",
       "0                NaN  4814     NaN        No 2016-03-02 08:16:00  \n",
       "1                NaN  4121     NaN        No 2016-03-02 12:25:00  \n",
       "2                 CA  4121     NaN        No 2016-03-03 12:44:00  \n",
       "3                 CA  4121     NaN        No 2016-03-03 13:25:00  \n",
       "4                 CA  4121     NaN        No 2016-03-03 17:00:00  \n",
       "...              ...   ...     ...       ...                 ...  \n",
       "99995             TX  5411     NaN        No 2013-07-10 14:21:00  \n",
       "99996             TX  5812     NaN        No 2013-07-10 18:50:00  \n",
       "99997             TX  5812     NaN        No 2013-07-11 18:50:00  \n",
       "99998             TX  5411     NaN        No 2013-07-12 06:29:00  \n",
       "99999            NaN  4814     NaN        No 2013-07-12 06:50:00  \n",
       "\n",
       "[100000 rows x 13 columns]"
      ]
     },
     "execution_count": 6,
     "metadata": {},
     "output_type": "execute_result"
    }
   ],
   "source": [
    "validar_datos(df)"
   ]
  },
  {
   "cell_type": "code",
   "execution_count": 7,
   "metadata": {},
   "outputs": [
    {
     "data": {
      "text/plain": [
       "User                       int64\n",
       "Card                       int64\n",
       "Year                      object\n",
       "Month                     object\n",
       "Day                       object\n",
       "Time                      object\n",
       "Amount                   float64\n",
       "Use Chip                  object\n",
       "Merchant State            object\n",
       "MCC                        int64\n",
       "Errors?                   object\n",
       "Is Fraud?                 object\n",
       "ts                datetime64[ns]\n",
       "dtype: object"
      ]
     },
     "execution_count": 7,
     "metadata": {},
     "output_type": "execute_result"
    }
   ],
   "source": [
    "validar_datos(df).dtypes"
   ]
  },
  {
   "cell_type": "code",
   "execution_count": 8,
   "metadata": {},
   "outputs": [
    {
     "data": {
      "text/plain": [
       "Errors?\n",
       "Insufficient Balance                     918\n",
       "Bad PIN                                  261\n",
       "Technical Glitch                         186\n",
       "Bad CVV                                   37\n",
       "Bad Card Number                           37\n",
       "Bad Expiration                            21\n",
       "Bad Zipcode                               10\n",
       "Insufficient Balance,Technical Glitch      6\n",
       "Bad Expiration,Bad CVV                     1\n",
       "Bad PIN,Insufficient Balance               1\n",
       "Bad CVV,Insufficient Balance               1\n",
       "Bad Zipcode,Technical Glitch               1\n",
       "Bad Card Number,Bad Expiration             1\n",
       "Name: count, dtype: int64"
      ]
     },
     "execution_count": 8,
     "metadata": {},
     "output_type": "execute_result"
    }
   ],
   "source": [
    "df['Errors?'].value_counts()"
   ]
  },
  {
   "cell_type": "code",
   "execution_count": 10,
   "metadata": {},
   "outputs": [
    {
     "data": {
      "text/plain": [
       "Is Fraud?\n",
       "No     0.99802\n",
       "Yes    0.00198\n",
       "Name: proportion, dtype: float64"
      ]
     },
     "execution_count": 10,
     "metadata": {},
     "output_type": "execute_result"
    }
   ],
   "source": [
    "df['Is Fraud?'].value_counts(1)"
   ]
  }
 ],
 "metadata": {
  "kernelspec": {
   "display_name": ".venv",
   "language": "python",
   "name": "python3"
  },
  "language_info": {
   "codemirror_mode": {
    "name": "ipython",
    "version": 3
   },
   "file_extension": ".py",
   "mimetype": "text/x-python",
   "name": "python",
   "nbconvert_exporter": "python",
   "pygments_lexer": "ipython3",
   "version": "3.8.2"
  }
 },
 "nbformat": 4,
 "nbformat_minor": 2
}
